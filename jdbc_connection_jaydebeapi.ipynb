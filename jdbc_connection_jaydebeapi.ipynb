{
 "cells": [
  {
   "cell_type": "code",
   "execution_count": null,
   "metadata": {},
   "outputs": [],
   "source": [
    "import os\n",
    "import sys"
   ]
  },
  {
   "cell_type": "code",
   "execution_count": null,
   "metadata": {},
   "outputs": [],
   "source": [
    "# Sets environment variables in Python for use with PySpark\n",
    "os.environ['PYSPARK_PYTHON'] = sys.executable\n",
    "os.environ['PYSPARK_DRIVER_PYTHON'] = sys.executable"
   ]
  },
  {
   "cell_type": "code",
   "execution_count": null,
   "metadata": {},
   "outputs": [],
   "source": [
    "# Store the original PATH environment variable\n",
    "original_PATH = os.environ[\"PATH\"]\n",
    "\n",
    "# Clear the PATH environment variable (usually not recommended, but for this example)\n",
    "os.environ[\"PATH\"] = \"\"\n",
    "\n",
    "# Set the Hadoop home directory\n",
    "hadoop_PATH = \"C:\\Hadoop\"\n",
    "\n",
    "# Update the environment variables\n",
    "os.environ[\"HADOOP_HOME\"] = hadoop_PATH\n",
    "os.environ[\"hadoop.home.dir\"] = hadoop_PATH\n",
    "os.environ[\"PATH\"] = original_PATH + f\";{hadoop_PATH}\\\\bin\"\n",
    "\n",
    "# Print the updated PATH to verify\n",
    "print(os.environ[\"PATH\"])"
   ]
  },
  {
   "cell_type": "code",
   "execution_count": null,
   "metadata": {},
   "outputs": [],
   "source": [
    "# Python package to connect to databases using Java Database Connectivity (JDBC)\n",
    "import jaydebeapi\n",
    "from pyspark.sql import SparkSession"
   ]
  },
  {
   "cell_type": "code",
   "execution_count": null,
   "metadata": {},
   "outputs": [],
   "source": [
    "# Create a Spark session\n",
    "spark = SparkSession.builder.getOrCreate()"
   ]
  },
  {
   "cell_type": "code",
   "execution_count": null,
   "metadata": {},
   "outputs": [],
   "source": [
    "# Database credentials\n",
    "jdbc_driver = 'Jar file path' # Can be downloaded from MAVEN\n",
    "jdbc_url = 'jdbc:mysql://<hostname>:<port>/<dbname>'\n",
    "db_user = 'your_mysql_username'\n",
    "db_password = 'your_mysql_password'\n",
    "\n",
    "# Establish the connection\n",
    "conn = jaydebeapi.connect(\n",
    "    'com.mysql.cj.jdbc.Driver',\n",
    "    jdbc_url,\n",
    "    [db_user, db_password],\n",
    "    jdbc_driver # For Mysql, the jdbc Driver connection string is com.mysql.jdbc.Driver\n",
    ")\n"
   ]
  },
  {
   "cell_type": "code",
   "execution_count": null,
   "metadata": {},
   "outputs": [],
   "source": [
    "# Create a cursor object\n",
    "cursor = conn.cursor()\n",
    "\n",
    "# Execute a query\n",
    "cursor.execute('SQL QUERY')\n",
    "\n",
    "# Fetch the results\n",
    "results = cursor.fetchall()"
   ]
  },
  {
   "cell_type": "code",
   "execution_count": null,
   "metadata": {},
   "outputs": [],
   "source": [
    "# Print the results\n",
    "records = []\n",
    "for row in results:\n",
    "    records.append(row)\n",
    "    print(row)"
   ]
  },
  {
   "cell_type": "code",
   "execution_count": null,
   "metadata": {},
   "outputs": [],
   "source": [
    "# Create spark dataframe\n",
    "df = spark.createDataFrame(records)"
   ]
  },
  {
   "cell_type": "code",
   "execution_count": null,
   "metadata": {},
   "outputs": [],
   "source": [
    "# Display columns\n",
    "df"
   ]
  },
  {
   "cell_type": "code",
   "execution_count": null,
   "metadata": {},
   "outputs": [],
   "source": [
    "# Display the first row\n",
    "df.show(1)"
   ]
  },
  {
   "cell_type": "code",
   "execution_count": null,
   "metadata": {},
   "outputs": [],
   "source": [
    "# Close the cursor and connection\n",
    "cursor.close()\n",
    "conn.close()"
   ]
  }
 ],
 "metadata": {
  "kernelspec": {
   "display_name": "qrsdata_env",
   "language": "python",
   "name": "python3"
  },
  "language_info": {
   "codemirror_mode": {
    "name": "ipython",
    "version": 3
   },
   "file_extension": ".py",
   "mimetype": "text/x-python",
   "name": "python",
   "nbconvert_exporter": "python",
   "pygments_lexer": "ipython3",
   "version": "3.9.19"
  }
 },
 "nbformat": 4,
 "nbformat_minor": 2
}
